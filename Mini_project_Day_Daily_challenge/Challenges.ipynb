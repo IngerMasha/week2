{
  "nbformat": 4,
  "nbformat_minor": 0,
  "metadata": {
    "colab": {
      "provenance": [],
      "authorship_tag": "ABX9TyMPgyseYU2+L7D7EYeXjkKO",
      "include_colab_link": true
    },
    "kernelspec": {
      "name": "python3",
      "display_name": "Python 3"
    },
    "language_info": {
      "name": "python"
    }
  },
  "cells": [
    {
      "cell_type": "markdown",
      "metadata": {
        "id": "view-in-github",
        "colab_type": "text"
      },
      "source": [
        "<a href=\"https://colab.research.google.com/github/IngerMasha/week2/blob/main/Mini_project_Day_Daily_challenge/Challenges.ipynb\" target=\"_parent\"><img src=\"https://colab.research.google.com/assets/colab-badge.svg\" alt=\"Open In Colab\"/></a>"
      ]
    },
    {
      "cell_type": "code",
      "execution_count": 1,
      "metadata": {
        "colab": {
          "base_uri": "https://localhost:8080/"
        },
        "id": "_DdaeCDrW18T",
        "outputId": "3fbf011e-a86c-4cb7-b497-0479503b240f"
      },
      "outputs": [
        {
          "output_type": "stream",
          "name": "stdout",
          "text": [
            "Enter a comma-separated sequence of words: without,hello,bag,world\n",
            "bag,hello,without,world\n"
          ]
        }
      ],
      "source": [
        "input_sequence = input(\"Enter a comma-separated sequence of words: \")\n",
        "words = input_sequence.split(',')\n",
        "sorted_words = sorted([word.strip() for word in words])\n",
        "result = ','.join(sorted_words)\n",
        "print(result)\n"
      ]
    },
    {
      "cell_type": "code",
      "source": [
        "def longest_word(sentence):\n",
        "    words = sentence.split()\n",
        "    longest = max(words, key=len)\n",
        "    return longest\n",
        "\n",
        "print(longest_word(\"Margaret's toy is a pretty doll.\"))\n",
        "print(longest_word(\"A thing of beauty is a joy forever.\"))\n",
        "print(longest_word(\"Forgetfulness is by all means powerless!\"))\n"
      ],
      "metadata": {
        "colab": {
          "base_uri": "https://localhost:8080/"
        },
        "id": "iLIf5O9zXJ7L",
        "outputId": "dfe063c6-f432-4018-86c1-2717a93f1ff3"
      },
      "execution_count": 2,
      "outputs": [
        {
          "output_type": "stream",
          "name": "stdout",
          "text": [
            "Margaret's\n",
            "forever.\n",
            "Forgetfulness\n"
          ]
        }
      ]
    }
  ]
}