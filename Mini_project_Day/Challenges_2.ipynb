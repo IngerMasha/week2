{
  "nbformat": 4,
  "nbformat_minor": 0,
  "metadata": {
    "colab": {
      "provenance": [],
      "authorship_tag": "ABX9TyNdwJjCIHPddAM+psJlGcsM",
      "include_colab_link": true
    },
    "kernelspec": {
      "name": "python3",
      "display_name": "Python 3"
    },
    "language_info": {
      "name": "python"
    }
  },
  "cells": [
    {
      "cell_type": "markdown",
      "metadata": {
        "id": "view-in-github",
        "colab_type": "text"
      },
      "source": [
        "<a href=\"https://colab.research.google.com/github/IngerMasha/week2/blob/main/Mini_project_Day/Challenges_2.ipynb\" target=\"_parent\"><img src=\"https://colab.research.google.com/assets/colab-badge.svg\" alt=\"Open In Colab\"/></a>"
      ]
    },
    {
      "cell_type": "code",
      "execution_count": 1,
      "metadata": {
        "colab": {
          "base_uri": "https://localhost:8080/"
        },
        "id": "8m58zGsLTDiN",
        "outputId": "fddb3610-d595-4a4f-8fa4-ae08597d34f6"
      },
      "outputs": [
        {
          "output_type": "stream",
          "name": "stdout",
          "text": [
            "  *\n",
            " ***\n",
            "*****\n"
          ]
        }
      ],
      "source": [
        "n = 3\n",
        "for i in range(n):\n",
        "    print(' ' * (n - i - 1), end='')\n",
        "    print('*' * (2 * i + 1))"
      ]
    },
    {
      "cell_type": "code",
      "source": [
        "n = 5\n",
        "for i in range(n):\n",
        "    print(' ' * (n - i - 1), end='')\n",
        "    print('*' * (i + 1))\n"
      ],
      "metadata": {
        "colab": {
          "base_uri": "https://localhost:8080/"
        },
        "id": "wv3_RlFSTK8z",
        "outputId": "04fed32e-39ea-4e50-bbc7-367e483ae914"
      },
      "execution_count": 2,
      "outputs": [
        {
          "output_type": "stream",
          "name": "stdout",
          "text": [
            "    *\n",
            "   **\n",
            "  ***\n",
            " ****\n",
            "*****\n"
          ]
        }
      ]
    },
    {
      "cell_type": "code",
      "source": [
        "n = 5\n",
        "for i in range(n):\n",
        "    print('*' * (i + 1))\n",
        "for i in range(n, 0, -1):\n",
        "    print(' ' * (n - i) + '*' * i)\n"
      ],
      "metadata": {
        "colab": {
          "base_uri": "https://localhost:8080/"
        },
        "id": "YEsxMpFNTN9B",
        "outputId": "b4596baf-cba4-437f-b3a6-de2e65bd9b79"
      },
      "execution_count": 3,
      "outputs": [
        {
          "output_type": "stream",
          "name": "stdout",
          "text": [
            "*\n",
            "**\n",
            "***\n",
            "****\n",
            "*****\n",
            "*****\n",
            " ****\n",
            "  ***\n",
            "   **\n",
            "    *\n"
          ]
        }
      ]
    },
    {
      "cell_type": "code",
      "source": [
        "my_list = [2, 24, 12, 354, 233]\n",
        "for i in range(len(my_list) - 1):\n",
        "    minimum = i\n",
        "    for j in range(i + 1, len(my_list)):\n",
        "        if(my_list[j] < my_list[minimum]):\n",
        "            minimum = j\n",
        "    if(minimum != i):\n",
        "        my_list[i], my_list[minimum] = my_list[minimum], my_list[i]\n",
        "print(my_list)"
      ],
      "metadata": {
        "colab": {
          "base_uri": "https://localhost:8080/"
        },
        "id": "e-ZrYeOMTTjO",
        "outputId": "fcb6b1e8-11cb-438a-bcf9-a009af1486f0"
      },
      "execution_count": 4,
      "outputs": [
        {
          "output_type": "stream",
          "name": "stdout",
          "text": [
            "[2, 12, 24, 233, 354]\n"
          ]
        }
      ]
    }
  ]
}