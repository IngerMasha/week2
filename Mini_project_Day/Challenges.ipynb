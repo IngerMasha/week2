{
  "nbformat": 4,
  "nbformat_minor": 0,
  "metadata": {
    "colab": {
      "provenance": [],
      "authorship_tag": "ABX9TyMRi3LjJZTxVcsRRFzk7itI",
      "include_colab_link": true
    },
    "kernelspec": {
      "name": "python3",
      "display_name": "Python 3"
    },
    "language_info": {
      "name": "python"
    }
  },
  "cells": [
    {
      "cell_type": "markdown",
      "metadata": {
        "id": "view-in-github",
        "colab_type": "text"
      },
      "source": [
        "<a href=\"https://colab.research.google.com/github/IngerMasha/week2/blob/main/Mini_project_Day/Challenges.ipynb\" target=\"_parent\"><img src=\"https://colab.research.google.com/assets/colab-badge.svg\" alt=\"Open In Colab\"/></a>"
      ]
    },
    {
      "cell_type": "code",
      "execution_count": 1,
      "metadata": {
        "colab": {
          "base_uri": "https://localhost:8080/"
        },
        "id": "cxXTV8-aAOre",
        "outputId": "aa7e3092-3498-4296-c2a8-d3a0285aa292"
      },
      "outputs": [
        {
          "output_type": "stream",
          "name": "stdout",
          "text": [
            "[1, 2, 'a', 3, 4]\n"
          ]
        }
      ],
      "source": [
        "def insert_item(lst, item, index):\n",
        "    lst.insert(index, item)\n",
        "    return lst\n",
        "print(insert_item([1, 2, 3, 4], 'a', 2))"
      ]
    },
    {
      "cell_type": "code",
      "source": [
        "# Exercise 2: Count the Number of Spaces in a String\n",
        "def count_spaces(s):\n",
        "    return s.count(' ')\n",
        "\n",
        "print(count_spaces(\"ho   i      am  masha\"))"
      ],
      "metadata": {
        "colab": {
          "base_uri": "https://localhost:8080/"
        },
        "id": "pf0yFyjqAhdC",
        "outputId": "429d0bbe-07d9-400a-ce7f-89e067b514f1"
      },
      "execution_count": 5,
      "outputs": [
        {
          "output_type": "stream",
          "name": "stdout",
          "text": [
            "11\n"
          ]
        }
      ]
    },
    {
      "cell_type": "code",
      "source": [
        "# Exercise 3: Count the Number of Upper Case and Lower Case Letters in a String\n",
        "\n",
        "def count_cases(s):\n",
        "    upper_case = sum(1 for c in s if c.isupper())\n",
        "    lower_case = sum(1 for c in s if c.islower())\n",
        "    return upper_case, lower_case\n",
        "print(count_cases(\"Hello World!\"))\n"
      ],
      "metadata": {
        "colab": {
          "base_uri": "https://localhost:8080/"
        },
        "id": "O8LXdsf5Ae_T",
        "outputId": "872bbf29-23a4-4c02-dfa2-f92efdaf8e65"
      },
      "execution_count": 3,
      "outputs": [
        {
          "output_type": "stream",
          "name": "stdout",
          "text": [
            "(2, 8)\n"
          ]
        }
      ]
    },
    {
      "cell_type": "code",
      "source": [
        "# Exercise 4: Sum of an Array without Using Built-in Function\n",
        "\n",
        "def my_sum(lst):\n",
        "    total = 0\n",
        "    for num in lst:\n",
        "        total += num\n",
        "    return total\n",
        "print(my_sum([1, 5, 4, 2]))"
      ],
      "metadata": {
        "colab": {
          "base_uri": "https://localhost:8080/"
        },
        "id": "PEiRRM6GAdG6",
        "outputId": "cc80b99b-54bb-4fdc-c5d9-7062d431e5ea"
      },
      "execution_count": 6,
      "outputs": [
        {
          "output_type": "stream",
          "name": "stdout",
          "text": [
            "12\n"
          ]
        }
      ]
    },
    {
      "cell_type": "code",
      "source": [
        "# Exercise 5: Find the Max Number in a List\n",
        "def find_max(lst):\n",
        "    max_num = lst[0]\n",
        "    for num in lst:\n",
        "        if num > max_num:\n",
        "            max_num = num\n",
        "    return max_num\n",
        "print(find_max([0, 1, 3, 50]))"
      ],
      "metadata": {
        "colab": {
          "base_uri": "https://localhost:8080/"
        },
        "id": "PGsq7RdzAa1Q",
        "outputId": "1e15ebba-e1c2-4775-ca34-61c9c2367e6e"
      },
      "execution_count": 7,
      "outputs": [
        {
          "output_type": "stream",
          "name": "stdout",
          "text": [
            "50\n"
          ]
        }
      ]
    },
    {
      "cell_type": "code",
      "source": [
        "# Exercise 6: Factorial of a Number\n",
        "def factorial(n):\n",
        "    result = 1\n",
        "    for i in range(1, n + 1):\n",
        "        result *= i\n",
        "    return result\n",
        "\n",
        "print('6:',factorial(4))\n",
        "# Exercise 7: Count an Element in a List (Without Using count Method)\n",
        "def list_count(lst, item):\n",
        "    count = 0\n",
        "    for element in lst:\n",
        "        if element == item:\n",
        "            count += 1\n",
        "    return count\n",
        "print('7: ',list_count(['a', 'a', 't', 'o'], 'a'))\n",
        "\n",
        "# Exercise 8: L2-Norm (Square Root of the Sum of Squares)\n",
        "import math\n",
        "def norm(lst):\n",
        "    sum_of_squares = sum(x**2 for x in lst)\n",
        "    return math.sqrt(sum_of_squares)\n",
        "print('8: ',norm([1, 2, 2]))\n",
        "\n",
        "# Exercise 9: Check if an Array is Monotonic\n",
        "def is_mono(lst):\n",
        "    return all(lst[i] <= lst[i+1] for i in range(len(lst)-1)) or all(lst[i] >= lst[i+1] for i in range(len(lst)-1))\n",
        "print('9: ',is_mono([7, 6, 5, 5, 2, 0]))\n",
        "print('9: ',is_mono([1, 2, 0, 4]))\n",
        "\n",
        "# Exercise 10: Find the Longest Word in a List\n",
        "def longest_word(lst):\n",
        "    return max(lst, key=len)\n",
        "print('10: ',longest_word([\"apple\", \"banana\", \"cherry\", \"blueberry\"]))\n",
        "\n",
        "# Exercise 11: Separate Integers and Strings from a List\n",
        "def separate_int_str(lst):\n",
        "    ints = [x for x in lst if isinstance(x, int)]\n",
        "    strs = [x for x in lst if isinstance(x, str)]\n",
        "    return ints, strs\n",
        "\n",
        "print('11: ',separate_int_str([1, 'a', 2, 'b', 3, 'c']))\n",
        "\n",
        "# Exercise 12: Check if a String is a Palindrome\n",
        "def is_palindrome(s):\n",
        "    return s == s[::-1]\n",
        "print('12: ',is_palindrome('radar'))\n",
        "print('12: ',is_palindrome('John'))\n",
        "\n",
        "# Exercise 13: Count Words in a Sentence with Length Greater than k\n",
        "\n",
        "def sum_over_k(sentence, k):\n",
        "    return sum(1 for word in sentence.split() if len(word) > k)\n",
        "\n",
        "sentence = 'Do or do not there is no try'\n",
        "print('13: ',sum_over_k(sentence, 2))\n",
        "\n",
        "# Exercise 14: Calculate the Average Value in a Dictionary\n",
        "def dict_avg(d):\n",
        "    return sum(d.values()) / len(d)\n",
        "\n",
        "print('14: ',dict_avg({'a': 1, 'b': 2, 'c': 8, 'd': 1}))\n",
        ""
      ],
      "metadata": {
        "colab": {
          "base_uri": "https://localhost:8080/"
        },
        "id": "uLd2n73UA_Nm",
        "outputId": "6423e355-0730-4157-b390-b1ae8b92c725"
      },
      "execution_count": 9,
      "outputs": [
        {
          "output_type": "stream",
          "name": "stdout",
          "text": [
            "6: 24\n",
            "7:  2\n",
            "8:  3.0\n",
            "9:  True\n",
            "9:  False\n",
            "10:  blueberry\n",
            "11:  ([1, 2, 3], ['a', 'b', 'c'])\n",
            "12:  True\n",
            "12:  False\n",
            "13:  3\n",
            "14:  3.0\n"
          ]
        }
      ]
    },
    {
      "cell_type": "code",
      "source": [
        "\n",
        "# Exercise 15: Find Common Divisors of Two Numbers\n",
        "def common_div(a, b):\n",
        "    return [i for i in range(1, min(a, b) + 1) if a % i == 0 and b % i == 0]\n",
        "\n",
        "print('15: ',common_div(10, 20))\n",
        "\n",
        "# Exercise 16: Check if a Number is Prime\n",
        "def is_prime(n):\n",
        "    if n <= 1:\n",
        "        return False\n",
        "    for i in range(2, int(n**0.5) + 1):\n",
        "        if n % i == 0:\n",
        "            return False\n",
        "    return True\n",
        "print('16: ',is_prime(11))\n",
        "# Exercise 17: Print Elements of a List if the Index and the Value are Even\n",
        "\n",
        "def weird_print(lst):\n",
        "    return [value for index, value in enumerate(lst) if index % 2 == 0 and value % 2 == 0]\n",
        "\n",
        "print('17: ',weird_print([1, 2, 2, 3, 4, 5]))\n",
        "\n",
        "# Exercise 18: Count Different Types of Keyword Arguments\n",
        "def type_count(**kwargs):\n",
        "    type_dict = {}\n",
        "    for value in kwargs.values():\n",
        "        value_type = type(value).__name__\n",
        "        if value_type in type_dict:\n",
        "            type_dict[value_type] += 1\n",
        "        else:\n",
        "            type_dict[value_type] = 1\n",
        "    return type_dict\n",
        "\n",
        "print('18: ',type_count(a=1, b='string', c=1.0, d=True, e=False))\n",
        "#\n",
        "# Exercise 19: Mimic the .split() Method for Strings\n",
        "def my_split(s, delimiter=' '):\n",
        "    result = []\n",
        "    temp = ''\n",
        "    for char in s:\n",
        "        if char == delimiter:\n",
        "            result.append(temp)\n",
        "            temp = ''\n",
        "        else:\n",
        "            temp += char\n",
        "    if temp:\n",
        "        result.append(temp)\n",
        "    return result\n",
        "\n",
        "print('19: ',my_split(\"Hello World! How are you?\", ' '))\n",
        "\n",
        "# Exercise 20: Convert a String into Password Format\n",
        "def to_password_format(s):\n",
        "    return '*' * len(s)\n",
        "\n",
        "print('20: ',to_password_format(\"mypassword\"))"
      ],
      "metadata": {
        "colab": {
          "base_uri": "https://localhost:8080/"
        },
        "id": "N-__tVZ9CJlG",
        "outputId": "bc0ba635-747d-49ef-ba92-adcd7899670e"
      },
      "execution_count": 10,
      "outputs": [
        {
          "output_type": "stream",
          "name": "stdout",
          "text": [
            "15:  [1, 2, 5, 10]\n",
            "16:  True\n",
            "17:  [2, 4]\n",
            "18:  {'int': 1, 'str': 1, 'float': 1, 'bool': 2}\n",
            "19:  ['Hello', 'World!', 'How', 'are', 'you?']\n",
            "20:  **********\n"
          ]
        }
      ]
    }
  ]
}